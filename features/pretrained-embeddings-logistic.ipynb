{
 "cells": [
  {
   "cell_type": "code",
   "execution_count": 1,
   "metadata": {},
   "outputs": [],
   "source": [
    "import numpy as np\n",
    "\n",
    "import pandas as pd\n",
    "\n",
    "import sys\n",
    "sys.path.append('../')\n",
    "from utils import preprocess, logistic, create_vector\n",
    "\n",
    "from gensim.models import word2vec\n",
    "\n",
    "np.random.seed(12345)"
   ]
  },
  {
   "cell_type": "code",
   "execution_count": 2,
   "metadata": {
    "collapsed": true
   },
   "outputs": [],
   "source": [
    "num_split = 5"
   ]
  },
  {
   "cell_type": "code",
   "execution_count": 3,
   "metadata": {
    "collapsed": true
   },
   "outputs": [],
   "source": [
    "data_path = '../data/'\n",
    "df = pd.read_csv(data_path + './../data/train_feature.csv')\n",
    "df_test = pd.read_csv(data_path + './../data/test_feature.csv')\n",
    "text = df.text.values\n",
    "text_test = df_test.text.values\n",
    "\n",
    "author2class = {'EAP': 0, 'HPL' : 1, 'MWS' : 2}\n",
    "class2author = ['EAP', 'HPL', 'MWS']\n",
    "y = np.array([author2class[a] for a in df.author])"
   ]
  },
  {
   "cell_type": "markdown",
   "metadata": {},
   "source": [
    "# Glove"
   ]
  },
  {
   "cell_type": "code",
   "execution_count": 4,
   "metadata": {},
   "outputs": [
    {
     "name": "stdout",
     "output_type": "stream",
     "text": [
      "0.663838075527\n"
     ]
    }
   ],
   "source": [
    "vec = word2vec.KeyedVectors.load_word2vec_format('./../data/glove.300.txt') \n",
    "\n",
    "x, x_test = create_vector(text, text_test, vec, preprocess_lower=False, preprocess_single=False)\n",
    "\n",
    "predict_prob_features, predict_prob_features_test = logistic(x, y, x_test, 89)"
   ]
  },
  {
   "cell_type": "code",
   "execution_count": 5,
   "metadata": {
    "collapsed": true
   },
   "outputs": [],
   "source": [
    "for a, c in author2class.items():\n",
    "    df['{}_glove_logi'.format(a)] = predict_prob_features[:, c]\n",
    "    df_test['{}_glove_logi'.format(a)] = predict_prob_features_test[:, c]/num_split"
   ]
  },
  {
   "cell_type": "markdown",
   "metadata": {},
   "source": [
    "# word2vec"
   ]
  },
  {
   "cell_type": "code",
   "execution_count": 6,
   "metadata": {},
   "outputs": [
    {
     "name": "stdout",
     "output_type": "stream",
     "text": [
      "0.728270858264\n"
     ]
    }
   ],
   "source": [
    "vec = word2vec.KeyedVectors.load_word2vec_format('./../data/w2vgoogle.300.txt')\n",
    "x, x_test = create_vector(text, text_test, vec, preprocess_lower=False, preprocess_single=True)\n",
    "predict_prob_features, predict_prob_features_test = logistic(x, y, x_test, 189)"
   ]
  },
  {
   "cell_type": "code",
   "execution_count": 7,
   "metadata": {
    "collapsed": true
   },
   "outputs": [],
   "source": [
    "for a, c in author2class.items():\n",
    "    df['{}_word2vec_google_logi'.format(a)] = predict_prob_features[:, c]\n",
    "    df_test['{}_word2vec_google_logi'.format(a)] = predict_prob_features_test[:, c]/num_split"
   ]
  },
  {
   "cell_type": "markdown",
   "metadata": {},
   "source": [
    "# FastText"
   ]
  },
  {
   "cell_type": "code",
   "execution_count": 8,
   "metadata": {},
   "outputs": [
    {
     "name": "stdout",
     "output_type": "stream",
     "text": [
      "0.683899983496\n"
     ]
    }
   ],
   "source": [
    "vec = word2vec.KeyedVectors.load_word2vec_format('./../data/fastText.300.txt')\n",
    "\n",
    "x, x_test = create_vector(text, text_test, vec, preprocess_lower=True, preprocess_single=True)\n",
    "predict_prob_features, predict_prob_features_test = logistic(x, y, x_test, 90)"
   ]
  },
  {
   "cell_type": "code",
   "execution_count": 9,
   "metadata": {
    "collapsed": true
   },
   "outputs": [],
   "source": [
    "for a, c in author2class.items():\n",
    "    df['{}_fasttext_wiki_logi'.format(a)] = predict_prob_features[:, c]\n",
    "    df_test['{}_fasttext_wiki_logi'.format(a)] = predict_prob_features_test[:, c]/num_split"
   ]
  },
  {
   "cell_type": "code",
   "execution_count": 10,
   "metadata": {
    "collapsed": true
   },
   "outputs": [],
   "source": [
    "df.to_csv('./../data/train_feature.csv', index=False)\n",
    "df_test.to_csv('./../data/test_feature.csv', index=False)"
   ]
  },
  {
   "cell_type": "code",
   "execution_count": null,
   "metadata": {
    "collapsed": true
   },
   "outputs": [],
   "source": []
  }
 ],
 "metadata": {
  "kernelspec": {
   "display_name": "Python 3",
   "language": "python",
   "name": "python3"
  },
  "language_info": {
   "codemirror_mode": {
    "name": "ipython",
    "version": 3
   },
   "file_extension": ".py",
   "mimetype": "text/x-python",
   "name": "python",
   "nbconvert_exporter": "python",
   "pygments_lexer": "ipython3",
   "version": "3.6.1"
  }
 },
 "nbformat": 4,
 "nbformat_minor": 2
}
