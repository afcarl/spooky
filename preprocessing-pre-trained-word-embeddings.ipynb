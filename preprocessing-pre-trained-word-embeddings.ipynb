{
 "cells": [
  {
   "cell_type": "code",
   "execution_count": 1,
   "metadata": {
    "collapsed": true
   },
   "outputs": [],
   "source": [
    "import pandas as pd\n",
    "from utils import preprocess"
   ]
  },
  {
   "cell_type": "code",
   "execution_count": 2,
   "metadata": {
    "collapsed": true
   },
   "outputs": [],
   "source": [
    "df = pd.read_csv('./data/train.csv')"
   ]
  },
  {
   "cell_type": "markdown",
   "metadata": {},
   "source": [
    "# Glove"
   ]
  },
  {
   "cell_type": "code",
   "execution_count": 3,
   "metadata": {
    "collapsed": true
   },
   "outputs": [],
   "source": [
    "# http://nlp.stanford.edu/data/glove.840B.300d.zip\n",
    "glove_vocab = set()\n",
    "with open('/Users/nzw/Downloads/glove.840B.300d.txt') as f:\n",
    "    for l in f:\n",
    "        word = l.split(' ', 1)[0]\n",
    "        glove_vocab.add(word)"
   ]
  },
  {
   "cell_type": "code",
   "execution_count": 6,
   "metadata": {
    "collapsed": true
   },
   "outputs": [],
   "source": [
    "train_vocab = set()\n",
    "for t in df.text:\n",
    "    train_vocab |= set(preprocess(t, lower=False, single=False).split())\n",
    "    "
   ]
  },
  {
   "cell_type": "code",
   "execution_count": 9,
   "metadata": {
    "collapsed": true
   },
   "outputs": [],
   "source": [
    "glove_vocab &= train_vocab\n",
    "num_vocab = len(glove_vocab)"
   ]
  },
  {
   "cell_type": "code",
   "execution_count": 12,
   "metadata": {
    "collapsed": true
   },
   "outputs": [],
   "source": [
    "with open('/Users/nzw/Dropbox/spooky/data/glove.300.txt', 'w') as f:\n",
    "    f.write('{} {}\\n'.format(num_vocab, 300))\n",
    "    with open('/Users/nzw/Downloads/glove.840B.300d.txt') as read_f:\n",
    "        for l in read_f:\n",
    "            word = l.split(' ', 1)[0]\n",
    "            if word in glove_vocab:\n",
    "                f.write(l)"
   ]
  },
  {
   "cell_type": "markdown",
   "metadata": {},
   "source": [
    "# word2vec"
   ]
  },
  {
   "cell_type": "code",
   "execution_count": null,
   "metadata": {
    "collapsed": true
   },
   "outputs": [],
   "source": [
    "# w2v = word2vec.KeyedVectors.load_word2vec_format('/Users/nzw/Downloads/GoogleNews-vectors-negative300.bin', binary=True)\n",
    "# w2v.save_word2vec_format('/Users/nzw/Downloads/GoogleNews-vectors-negative300.txt', binary=False)"
   ]
  },
  {
   "cell_type": "code",
   "execution_count": 14,
   "metadata": {
    "collapsed": true
   },
   "outputs": [],
   "source": [
    "w2v_vocab = set()\n",
    "with open('/Users/nzw/Downloads/GoogleNews-vectors-negative300.txt') as f:\n",
    "    for l in f:\n",
    "        word = l.split(' ', 1)[0]\n",
    "        w2v_vocab.add(word)"
   ]
  },
  {
   "cell_type": "code",
   "execution_count": 22,
   "metadata": {
    "collapsed": true
   },
   "outputs": [],
   "source": [
    "train_vocab = set()\n",
    "for t in df.text:\n",
    "    train_vocab |= set(preprocess(t, lower=False, single=True).split())\n",
    "\n",
    "w2v_vocab &= train_vocab\n",
    "num_vocab = len(w2v_vocab)"
   ]
  },
  {
   "cell_type": "code",
   "execution_count": 23,
   "metadata": {
    "collapsed": true
   },
   "outputs": [],
   "source": [
    "with open('/Users/nzw/Dropbox/spooky/data/w2vgoogle.300.txt', 'w') as f:\n",
    "    f.write('{} {}\\n'.format(num_vocab, 300))\n",
    "    with open('/Users/nzw/Downloads/GoogleNews-vectors-negative300.txt') as read_f:\n",
    "        read_f.readline()\n",
    "        for l in read_f:\n",
    "            word = l.split(' ', 1)[0]\n",
    "            if word in w2v_vocab:\n",
    "                f.write(l)"
   ]
  },
  {
   "cell_type": "markdown",
   "metadata": {
    "collapsed": true
   },
   "source": [
    "# FastText pretrained model\n",
    "https://github.com/facebookresearch/fastText/blob/master/pretrained-vectors.md"
   ]
  },
  {
   "cell_type": "code",
   "execution_count": 3,
   "metadata": {
    "collapsed": true
   },
   "outputs": [],
   "source": [
    "train_vocab = set()\n",
    "for t in df.text:\n",
    "    train_vocab |= set(preprocess(t).split())\n"
   ]
  },
  {
   "cell_type": "code",
   "execution_count": 4,
   "metadata": {
    "collapsed": true
   },
   "outputs": [],
   "source": [
    "dim = 300\n",
    "vec = []\n",
    "with open('/Users/nzw/Downloads/wiki.en.vec') as f:\n",
    "    for l in f:\n",
    "        w = l.split()[0]\n",
    "        if w in train_vocab:\n",
    "            vec.append(l)\n",
    "num_vocab = len(vec)"
   ]
  },
  {
   "cell_type": "code",
   "execution_count": 5,
   "metadata": {
    "collapsed": true
   },
   "outputs": [],
   "source": [
    "with open('/Users/nzw/Dropbox/spooky/data/fastText.300.txt', 'w') as f:\n",
    "    f.write('{} {}\\n'.format(num_vocab, dim))\n",
    "    for v in vec:\n",
    "        f.write('{}'.format(v))"
   ]
  },
  {
   "cell_type": "code",
   "execution_count": null,
   "metadata": {
    "collapsed": true
   },
   "outputs": [],
   "source": []
  }
 ],
 "metadata": {
  "kernelspec": {
   "display_name": "Python 3",
   "language": "python",
   "name": "python3"
  },
  "language_info": {
   "codemirror_mode": {
    "name": "ipython",
    "version": 3
   },
   "file_extension": ".py",
   "mimetype": "text/x-python",
   "name": "python",
   "nbconvert_exporter": "python",
   "pygments_lexer": "ipython3",
   "version": "3.6.1"
  }
 },
 "nbformat": 4,
 "nbformat_minor": 2
}
