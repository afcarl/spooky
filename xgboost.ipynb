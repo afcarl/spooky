{
 "cells": [
  {
   "cell_type": "code",
   "execution_count": 16,
   "metadata": {},
   "outputs": [],
   "source": [
    "import numpy as np\n",
    "\n",
    "import pandas as pd\n",
    "from collections import defaultdict\n",
    "import string\n",
    "\n",
    "import sklearn\n",
    "from sklearn.metrics import log_loss\n",
    "from sklearn.model_selection import KFold\n",
    "\n",
    "import xgboost as xgb\n",
    "import matplotlib.pyplot as plt\n",
    "\n",
    "from utils import preprocess"
   ]
  },
  {
   "cell_type": "code",
   "execution_count": 17,
   "metadata": {
    "collapsed": true
   },
   "outputs": [],
   "source": [
    "def delete_unrelated_feilds(df):\n",
    "    fields = set(df.keys())\n",
    "    for k in fields:\n",
    "        if 'Unnamed' in k:\n",
    "            df.drop(k, axis=1, inplace=True)\n",
    "    return df\n",
    "\n",
    "df = pd.read_csv('./data/train_feature.csv')\n",
    "df_test = pd.read_csv('./data/test_feature.csv')\n",
    "\n",
    "df = delete_unrelated_feilds(df)\n",
    "df_test = delete_unrelated_feilds(df_test)\n",
    "\n",
    "df.to_csv('./data/train_feature.csv')\n",
    "df_test.to_csv('./data/test_feature.csv')"
   ]
  },
  {
   "cell_type": "code",
   "execution_count": 18,
   "metadata": {
    "collapsed": true
   },
   "outputs": [],
   "source": [
    "df = pd.read_csv('./data/train_feature.csv')\n",
    "df_test = pd.read_csv('./data/test_feature.csv')\n",
    "text = df.text.values\n",
    "text_test = df_test.text.values\n",
    "\n",
    "author2class = {'EAP': 0, 'HPL' : 1, 'MWS' : 2}\n",
    "class2author = ['EAP', 'HPL', 'MWS']\n",
    "y = np.array([author2class[a] for a in df.author])"
   ]
  },
  {
   "cell_type": "code",
   "execution_count": 19,
   "metadata": {
    "collapsed": true
   },
   "outputs": [],
   "source": [
    "df.drop('id', axis=1, inplace=True)\n",
    "df.drop('text', axis=1, inplace=True)\n",
    "df.drop('author', axis=1, inplace=True)\n",
    "\n",
    "df_test.drop('id', axis=1, inplace=True)\n",
    "df_test.drop('text', axis=1, inplace=True)\n",
    "df = delete_unrelated_feilds(df)\n",
    "df_test = delete_unrelated_feilds(df_test)\n"
   ]
  },
  {
   "cell_type": "code",
   "execution_count": 20,
   "metadata": {
    "collapsed": true
   },
   "outputs": [],
   "source": [
    "# pd.options.display.max_columns = 1000\n",
    "# df.head(10)"
   ]
  },
  {
   "cell_type": "code",
   "execution_count": 21,
   "metadata": {
    "collapsed": true
   },
   "outputs": [],
   "source": [
    "for t in [df, df_test]:\n",
    "#     for a in class2author:\n",
    "# #         t.drop('{}_char_wb_count_NB'.format(a), axis=1, inplace=True)\n",
    "# #         t.drop('{}_fasttext_cbow_wide_logi'.format(a), axis=1, inplace=True)\n",
    "# #         t.drop('{}_fasttext_bigram_reverse'.format(a), axis=1, inplace=True)\n",
    "# #         t.drop('{}_lstm'.format(a), axis=1, inplace=True)\n",
    "# #         t.drop('{}_word2vec_google_logi'.format(a), axis=1, inplace=True)    \n",
    "\n",
    "# #     df_test.drop('{}_fasttext_bigram_reverse'.format(a), axis=1, inplace=True)        \n",
    "# #     df.drop('{}_fasttext_skip_low_dim_logi'.format(a), axis=1, inplace=True)\n",
    "# #     df_test.drop('{}_fasttext_skip_low_dim_logi'.format(a), axis=1, inplace=True)        \n",
    "# #     df.drop('{}_char_wb_count_NB'.format(a), axis=1, inplace=True)\n",
    "# #     df_test.drop('{}_char_wb_count_NB'.format(a), axis=1, inplace=True)\n",
    "# # df.drop('num_words'.format(a), axis=1, inplace=True)\n",
    "#     # df_test.drop('num_words'.format(a), axis=1, inplace=True)                \n",
    "# #     t.drop('rate_uniq_chars', axis=1, inplace=True)\n",
    "    t.drop('MWS_char_wb_count_NB', axis=1, inplace=True)\n",
    "    t.drop('num_words', axis=1, inplace=True)\n"
   ]
  },
  {
   "cell_type": "code",
   "execution_count": null,
   "metadata": {},
   "outputs": [
    {
     "name": "stdout",
     "output_type": "stream",
     "text": [
      "[0]\ttrain-mlogloss:0.991608\ttest-mlogloss:0.990801\n",
      "Multiple eval metrics have been passed: 'test-mlogloss' will be used for early stopping.\n",
      "\n",
      "Will train until test-mlogloss hasn't improved in 170 rounds.\n",
      "[100]\ttrain-mlogloss:0.252275\ttest-mlogloss:0.265401\n",
      "[200]\ttrain-mlogloss:0.228859\ttest-mlogloss:0.259178\n",
      "[300]\ttrain-mlogloss:0.213049\ttest-mlogloss:0.258327\n",
      "[400]\ttrain-mlogloss:0.200211\ttest-mlogloss:0.258775\n",
      "Stopping. Best iteration:\n",
      "[314]\ttrain-mlogloss:0.210993\ttest-mlogloss:0.258134\n",
      "\n",
      "[0]\ttrain-mlogloss:0.990866\ttest-mlogloss:0.992537\n",
      "Multiple eval metrics have been passed: 'test-mlogloss' will be used for early stopping.\n",
      "\n",
      "Will train until test-mlogloss hasn't improved in 170 rounds.\n",
      "[100]\ttrain-mlogloss:0.25031\ttest-mlogloss:0.274725\n",
      "[200]\ttrain-mlogloss:0.227719\ttest-mlogloss:0.268626\n",
      "[300]\ttrain-mlogloss:0.211869\ttest-mlogloss:0.267698\n",
      "[400]\ttrain-mlogloss:0.19845\ttest-mlogloss:0.267839\n",
      "Stopping. Best iteration:\n",
      "[323]\ttrain-mlogloss:0.208632\ttest-mlogloss:0.267466\n",
      "\n",
      "[0]\ttrain-mlogloss:0.991047\ttest-mlogloss:0.992094\n",
      "Multiple eval metrics have been passed: 'test-mlogloss' will be used for early stopping.\n",
      "\n",
      "Will train until test-mlogloss hasn't improved in 170 rounds.\n",
      "[100]\ttrain-mlogloss:0.248252\ttest-mlogloss:0.282347\n",
      "[200]\ttrain-mlogloss:0.225789\ttest-mlogloss:0.277678\n",
      "[300]\ttrain-mlogloss:0.210071\ttest-mlogloss:0.276406\n",
      "[400]\ttrain-mlogloss:0.196887\ttest-mlogloss:0.277795\n",
      "Stopping. Best iteration:\n",
      "[319]\ttrain-mlogloss:0.207473\ttest-mlogloss:0.276317\n",
      "\n",
      "[0]\ttrain-mlogloss:0.991492\ttest-mlogloss:0.991731\n",
      "Multiple eval metrics have been passed: 'test-mlogloss' will be used for early stopping.\n",
      "\n",
      "Will train until test-mlogloss hasn't improved in 170 rounds.\n",
      "[100]\ttrain-mlogloss:0.254001\ttest-mlogloss:0.26363\n",
      "[200]\ttrain-mlogloss:0.232132\ttest-mlogloss:0.254568\n",
      "[300]\ttrain-mlogloss:0.216278\ttest-mlogloss:0.252194\n",
      "[400]\ttrain-mlogloss:0.203423\ttest-mlogloss:0.250923\n",
      "[500]\ttrain-mlogloss:0.191638\ttest-mlogloss:0.251056\n",
      "[600]\ttrain-mlogloss:0.181116\ttest-mlogloss:0.250786\n",
      "[700]\ttrain-mlogloss:0.171723\ttest-mlogloss:0.251347\n",
      "[800]\ttrain-mlogloss:0.163024\ttest-mlogloss:0.252484\n",
      "Stopping. Best iteration:\n",
      "[637]\ttrain-mlogloss:0.177405\ttest-mlogloss:0.25006\n",
      "\n",
      "[0]\ttrain-mlogloss:1.00977\ttest-mlogloss:1.0085\n",
      "Multiple eval metrics have been passed: 'test-mlogloss' will be used for early stopping.\n",
      "\n",
      "Will train until test-mlogloss hasn't improved in 170 rounds.\n",
      "[100]\ttrain-mlogloss:0.252965\ttest-mlogloss:0.263763\n",
      "[200]\ttrain-mlogloss:0.230289\ttest-mlogloss:0.256269\n",
      "[300]\ttrain-mlogloss:0.21444\ttest-mlogloss:0.255174\n",
      "[400]\ttrain-mlogloss:0.201255\ttest-mlogloss:0.25487\n"
     ]
    }
   ],
   "source": [
    "ite = 5\n",
    "losses = []\n",
    "num_split = 5\n",
    "results = np.zeros((len(df_test), 3))\n",
    "\n",
    "\n",
    "np.random.seed(1234)\n",
    "param = {}\n",
    "param['objective'] = 'multi:softprob'\n",
    "param['eta'] = 0.11 #01\n",
    "param['max_depth'] = 2\n",
    "param['silent'] = 1\n",
    "param['num_class'] = 3\n",
    "param['eval_metric'] = 'mlogloss'\n",
    "param['min_child_weight'] = 1\n",
    "param['subsample'] = 0.8\n",
    "param['colsample_bytree'] = 0.3 # 0.3\n",
    "param['seed'] = 7\n",
    "num_rounds = 6000\n",
    "\n",
    "kf = KFold(n_splits=num_split, shuffle=True, random_state=2017)\n",
    "i = 0\n",
    "for train_ids, val_ids in kf.split(df):\n",
    "    i += 1    \n",
    "        \n",
    "    x_train, x_val = df.loc[train_ids], df.loc[val_ids]\n",
    "    y_train, y_val = y[train_ids], y[val_ids]\n",
    "\n",
    "    plst = list(param.items())\n",
    "    xgtrain = xgb.DMatrix(x_train, label=y_train)\n",
    "    xgtest = xgb.DMatrix(x_val, label=y_val)\n",
    "\n",
    "    watchlist = [ (xgtrain,'train'), (xgtest, 'test') ]\n",
    "    model = xgb.train(plst, xgtrain, num_rounds, watchlist, early_stopping_rounds=170, verbose_eval=100)\n",
    "\n",
    "    l = log_loss(y_true=y_val, y_pred=model.predict(xgtest, ntree_limit=model.best_ntree_limit))\n",
    "    losses.append(l)\n",
    "\n",
    "    xgtest2 = xgb.DMatrix(df_test)\n",
    "    results += model.predict(xgtest2, ntree_limit=model.best_ntree_limit)\n"
   ]
  },
  {
   "cell_type": "code",
   "execution_count": null,
   "metadata": {},
   "outputs": [],
   "source": [
    "losses, np.mean(losses)"
   ]
  },
  {
   "cell_type": "code",
   "execution_count": 7,
   "metadata": {},
   "outputs": [
    {
     "data": {
      "text/plain": [
       "([0.25850233691032937,\n",
       "  0.26999177473710539,\n",
       "  0.27681713880432079,\n",
       "  0.2521633001711317,\n",
       "  0.25445806337103483],\n",
       " 0.26238652279878438)"
      ]
     },
     "execution_count": 7,
     "metadata": {},
     "output_type": "execute_result"
    }
   ],
   "source": [
    "losses, np.mean(losses) # best"
   ]
  },
  {
   "cell_type": "code",
   "execution_count": null,
   "metadata": {},
   "outputs": [],
   "source": [
    "fig, ax = plt.subplots(figsize=(12, 12))\n",
    "xgb.plot_importance(model, max_num_features=100, height=0.7, ax=ax)\n",
    "plt.show()"
   ]
  },
  {
   "cell_type": "code",
   "execution_count": 16,
   "metadata": {
    "collapsed": true
   },
   "outputs": [],
   "source": [
    "submission_df = pd.read_csv('./data/sample_submission.csv')\n",
    "for a, i in author2class.items():\n",
    "    submission_df[a] = results[:, i]/num_split/5\n",
    "\n",
    "with open('./results/results.csv', 'w') as f:\n",
    "    f.write('\"id\",\"EAP\",\"HPL\",\"MWS\"\\n')\n",
    "    for (index, row) in submission_df.iterrows():\n",
    "        f.write(','.join(['\\\"' + row['id'] + '\\\"'] +  list(map(str, [row['EAP'], row['HPL'], row['MWS']]))) + '\\n')"
   ]
  },
  {
   "cell_type": "code",
   "execution_count": null,
   "metadata": {
    "collapsed": true
   },
   "outputs": [],
   "source": []
  }
 ],
 "metadata": {
  "kernelspec": {
   "display_name": "Python 3",
   "language": "python",
   "name": "python3"
  },
  "language_info": {
   "codemirror_mode": {
    "name": "ipython",
    "version": 3
   },
   "file_extension": ".py",
   "mimetype": "text/x-python",
   "name": "python",
   "nbconvert_exporter": "python",
   "pygments_lexer": "ipython3",
   "version": "3.6.3"
  }
 },
 "nbformat": 4,
 "nbformat_minor": 2
}
