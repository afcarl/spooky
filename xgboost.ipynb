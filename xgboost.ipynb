{
 "cells": [
  {
   "cell_type": "code",
   "execution_count": 1,
   "metadata": {
    "collapsed": true
   },
   "outputs": [],
   "source": [
    "import numpy as np\n",
    "\n",
    "import pandas as pd\n",
    "from collections import defaultdict\n",
    "import string\n",
    "\n",
    "import sklearn\n",
    "from sklearn.linear_model import LogisticRegressionCV, LogisticRegression\n",
    "from sklearn.metrics import log_loss\n",
    "from sklearn.model_selection import train_test_split, KFold, GridSearchCV\n",
    "from sklearn.svm import LinearSVC, SVC\n",
    "from sklearn.naive_bayes import MultinomialNB\n",
    "from sklearn.feature_extraction.text import TfidfVectorizer, CountVectorizer\n",
    "from sklearn.preprocessing import MinMaxScaler\n",
    "from gensim.models import word2vec\n",
    "import xgboost as xgb\n",
    "import matplotlib.pyplot as plt\n",
    "\n",
    "# from keras.models import Sequential\n",
    "# from keras.utils.np_utils import to_categorical\n",
    "# from keras.layers import Dropout, Dense, Activation\n",
    "# from keras.layers import BatchNormalization\n",
    "\n",
    "from utils import preprocess\n",
    "np.random.seed(1234)"
   ]
  },
  {
   "cell_type": "code",
   "execution_count": 2,
   "metadata": {
    "collapsed": true
   },
   "outputs": [],
   "source": [
    "num_split = 5"
   ]
  },
  {
   "cell_type": "code",
   "execution_count": 3,
   "metadata": {
    "collapsed": true
   },
   "outputs": [],
   "source": [
    "df = pd.read_csv('./data/train.csv')\n",
    "df_test = pd.read_csv('./data/test.csv')\n",
    "text = df.text.values\n",
    "text_test = df_test.text.values\n",
    "\n",
    "author2class = {'EAP': 0, 'HPL' : 1, 'MWS' : 2}\n",
    "class2author = ['EAP', 'HPL', 'MWS']\n",
    "y = np.array([author2class[a] for a in df.author])"
   ]
  },
  {
   "cell_type": "code",
   "execution_count": 4,
   "metadata": {
    "collapsed": true
   },
   "outputs": [],
   "source": [
    "vec = word2vec.KeyedVectors.load_word2vec_format('./fastText/model.vec')"
   ]
  },
  {
   "cell_type": "code",
   "execution_count": 5,
   "metadata": {},
   "outputs": [
    {
     "data": {
      "text/plain": [
       "[('loved', 0.8400787115097046),\n",
       " ('lovelier', 0.8375217914581299),\n",
       " ('lover', 0.8341007828712463),\n",
       " ('loves', 0.8205721378326416),\n",
       " ('clove', 0.8196173906326294),\n",
       " ('loveliest', 0.8140965700149536),\n",
       " (\"beloved's\", 0.7933589220046997),\n",
       " (\"lover's\", 0.7773091197013855),\n",
       " ('jove', 0.7757792472839355),\n",
       " ('glove', 0.7705390453338623)]"
      ]
     },
     "execution_count": 5,
     "metadata": {},
     "output_type": "execute_result"
    }
   ],
   "source": [
    "vec.most_similar(positive=['love'])"
   ]
  },
  {
   "cell_type": "code",
   "execution_count": 6,
   "metadata": {},
   "outputs": [
    {
     "data": {
      "text/plain": [
       "[('theft', 0.8367539048194885),\n",
       " (\"amalthea's\", 0.8247981071472168),\n",
       " ('therefrom', 0.8049554824829102),\n",
       " (\"'υπνος\", 0.7993500232696533),\n",
       " ('cn', 0.7949093580245972),\n",
       " ('xiv', 0.7938920259475708),\n",
       " ('oxydracae', 0.786963701248169),\n",
       " ('cimabué', 0.7844108939170837),\n",
       " ('ottawa', 0.7829217910766602),\n",
       " (\"azrael's\", 0.7828168272972107)]"
      ]
     },
     "execution_count": 6,
     "metadata": {},
     "output_type": "execute_result"
    }
   ],
   "source": [
    "vec.most_similar(positive=['the'])"
   ]
  },
  {
   "cell_type": "code",
   "execution_count": 7,
   "metadata": {
    "collapsed": true
   },
   "outputs": [],
   "source": [
    "def create_vector(vec):\n",
    "    n = vec.vector_size\n",
    "    x = np.zeros((len(df), n))\n",
    "    for i, doc in enumerate(df.text):\n",
    "        doc_vec = np.zeros(n)\n",
    "        words = preprocess(doc).lower().split()\n",
    "        num_words = 0\n",
    "        for w in words:\n",
    "            if w in vec.vocab:\n",
    "                doc_vec += vec[w]\n",
    "                num_words += 1\n",
    "        doc_vec /= num_words\n",
    "        x[i] = doc_vec\n",
    "\n",
    "    x_test = np.zeros((len(df_test), n))\n",
    "    for i, doc in enumerate(df_test.text):\n",
    "        doc_vec = np.zeros(n)\n",
    "        words = preprocess(doc).lower().split()\n",
    "        num_words = 0\n",
    "        for w in words:\n",
    "            if w in vec.vocab:\n",
    "                doc_vec += vec[w]\n",
    "                num_words += 1\n",
    "        doc_vec /= num_words\n",
    "        x_test[i] = doc_vec\n",
    "    return x, x_test"
   ]
  },
  {
   "cell_type": "code",
   "execution_count": 8,
   "metadata": {
    "collapsed": true
   },
   "outputs": [],
   "source": [
    "def logistic(x, x_test, seed=7):\n",
    "    num_split = 5\n",
    "    kf = KFold(n_splits=num_split, random_state=seed, shuffle=True)\n",
    "    loss = 0.\n",
    "\n",
    "    predict_prob_features = np.zeros((len(df), 3))\n",
    "    predict_prob_features_test = np.zeros((len(df_test), 3))\n",
    "\n",
    "    for train_index, val_index in kf.split(x):\n",
    "        x_train, x_val = x[train_index], x[val_index]\n",
    "        y_train, y_val = y[train_index], y[val_index]\n",
    "        model = LogisticRegression()\n",
    "        model.fit(x_train, y_train)\n",
    "        y_pred = model.predict_proba(x_val)\n",
    "        predict_prob_features_test += model.predict_proba(x_test)\n",
    "        predict_prob_features[val_index] = y_pred\n",
    "        loss += log_loss(y_pred=y_pred, y_true=y_val)\n",
    "\n",
    "    print(loss/5)\n",
    "    return predict_prob_features, predict_prob_features_test"
   ]
  },
  {
   "cell_type": "code",
   "execution_count": 9,
   "metadata": {
    "collapsed": true
   },
   "outputs": [],
   "source": [
    "#  ./fasttext skipgram -input ../data/fasttext-inputs.txt -output model -minCount 1  -neg 15 -ws 10 -epoch 7\n",
    "vec = word2vec.KeyedVectors.load_word2vec_format('./fastText/model.vec')\n",
    "x, x_test = create_vector(vec)"
   ]
  },
  {
   "cell_type": "code",
   "execution_count": 10,
   "metadata": {},
   "outputs": [
    {
     "name": "stdout",
     "output_type": "stream",
     "text": [
      "0.521292042282\n"
     ]
    }
   ],
   "source": [
    "predict_prob_features, predict_prob_features_test = logistic(x, x_test)"
   ]
  },
  {
   "cell_type": "code",
   "execution_count": 11,
   "metadata": {
    "collapsed": true
   },
   "outputs": [],
   "source": [
    "for a, c in author2class.items():\n",
    "    df['{}_fasttext_logi'.format(a)] = predict_prob_features[:, c]\n",
    "    df_test['{}_fasttext_logi'.format(a)] = predict_prob_features_test[:, c]/num_split"
   ]
  },
  {
   "cell_type": "code",
   "execution_count": 12,
   "metadata": {
    "collapsed": true
   },
   "outputs": [],
   "source": [
    "# vec = word2vec.KeyedVectors.load_word2vec_format('./fastText/skip20_min2_neg15_epoch_7_ws_20.vec') # 0.527408070746\n",
    "# x, x_test = create_vector(vec)\n",
    "# predict_prob_features, predict_prob_features_test = logistic(x, x_test, 7)"
   ]
  },
  {
   "cell_type": "code",
   "execution_count": 13,
   "metadata": {
    "collapsed": true
   },
   "outputs": [],
   "source": [
    "# for a, c in author2class.items():\n",
    "#     df['{}_fasttext_low_dim_logi'.format(a)] = predict_prob_features[:, c]\n",
    "#     df_test['{}_fasttext_low_dim_logi'.format(a)] = predict_prob_features_test[:, c]/num_split"
   ]
  },
  {
   "cell_type": "code",
   "execution_count": 14,
   "metadata": {},
   "outputs": [
    {
     "name": "stdout",
     "output_type": "stream",
     "text": [
      "0.802415782991\n"
     ]
    }
   ],
   "source": [
    "vec = word2vec.KeyedVectors.load_word2vec_format('./fastText/cbow100_min1_neg15_epoch_7_ws_10.vec') # 0.527408070746\n",
    "x, x_test = create_vector(vec)\n",
    "predict_prob_features, predict_prob_features_test = logistic(x, x_test, 7)"
   ]
  },
  {
   "cell_type": "code",
   "execution_count": 15,
   "metadata": {
    "collapsed": true
   },
   "outputs": [],
   "source": [
    "for a, c in author2class.items():\n",
    "    df['{}_fasttext_cbow_logi'.format(a)] = predict_prob_features[:, c]\n",
    "    df_test['{}_fasttext_cbow_logi'.format(a)] = predict_prob_features_test[:, c]/num_split"
   ]
  },
  {
   "cell_type": "code",
   "execution_count": 16,
   "metadata": {
    "collapsed": true
   },
   "outputs": [],
   "source": [
    "def vectorizer_feature(vectorizer, seed=8):\n",
    "    kf = KFold(n_splits=num_split, random_state=seed, shuffle=True)\n",
    "    loss = 0.\n",
    "\n",
    "    predict_prob_features = np.zeros((len(df), 3))\n",
    "    predict_prob_features_test = np.zeros((len(df_test), 3))\n",
    "\n",
    "    for train_index, val_index in kf.split(text):\n",
    "        print(len(train_index), len(val_index))\n",
    "        text_train, text_val = text[train_index], text[val_index]\n",
    "        y_train, y_val = y[train_index], y[val_index]\n",
    "\n",
    "        x_train = vectorizer.fit_transform(text_train)\n",
    "        x_val = vectorizer.transform(text_val)\n",
    "\n",
    "        model = MultinomialNB()\n",
    "        model.fit(x_train, y_train)\n",
    "        y_pred = model.predict_proba(x_val)\n",
    "\n",
    "        predict_prob_features[val_index] = y_pred\n",
    "        loss += log_loss(y_pred=y_pred, y_true=y_val)\n",
    "\n",
    "        predict_prob_features_test += model.predict_proba(vectorizer.transform(text_test))\n",
    "\n",
    "    print(loss/5)\n",
    "    return predict_prob_features, predict_prob_features_test\n"
   ]
  },
  {
   "cell_type": "code",
   "execution_count": 17,
   "metadata": {
    "collapsed": true
   },
   "outputs": [],
   "source": [
    "vectorizer = TfidfVectorizer(ngram_range=(4, 5), analyzer='char')"
   ]
  },
  {
   "cell_type": "code",
   "execution_count": 18,
   "metadata": {},
   "outputs": [
    {
     "name": "stdout",
     "output_type": "stream",
     "text": [
      "15663 3916\n",
      "15663 3916\n",
      "15663 3916\n",
      "15663 3916\n",
      "15664 3915\n",
      "0.604632133935\n"
     ]
    }
   ],
   "source": [
    "predict_prob_features, predict_prob_features_test = vectorizer_feature(vectorizer, 8)"
   ]
  },
  {
   "cell_type": "code",
   "execution_count": 19,
   "metadata": {
    "collapsed": true
   },
   "outputs": [],
   "source": [
    "for a, c in author2class.items():\n",
    "    df['{}_char_tfidf_NB'.format(a)] = predict_prob_features[:, c]\n",
    "    df_test['{}_char_tfidf_NB'.format(a)] = predict_prob_features_test[:, c]/num_split"
   ]
  },
  {
   "cell_type": "code",
   "execution_count": 20,
   "metadata": {},
   "outputs": [
    {
     "name": "stdout",
     "output_type": "stream",
     "text": [
      "15663 3916\n",
      "15663 3916\n",
      "15663 3916\n",
      "15663 3916\n",
      "15664 3915\n",
      "0.706003820852\n"
     ]
    }
   ],
   "source": [
    "vectorizer = TfidfVectorizer(ngram_range=(1, 3), analyzer='word')\n",
    "predict_prob_features, predict_prob_features_test = vectorizer_feature(vectorizer, 7)"
   ]
  },
  {
   "cell_type": "code",
   "execution_count": 21,
   "metadata": {
    "collapsed": true
   },
   "outputs": [],
   "source": [
    "for a, c in author2class.items():\n",
    "    df['{}_word_tfidf_NB'.format(a)] = predict_prob_features[:, c]\n",
    "    df_test['{}_word_tfidf_NB'.format(a)] = predict_prob_features_test[:, c]/num_split"
   ]
  },
  {
   "cell_type": "code",
   "execution_count": 22,
   "metadata": {},
   "outputs": [
    {
     "name": "stdout",
     "output_type": "stream",
     "text": [
      "15663 3916\n",
      "15663 3916\n",
      "15663 3916\n",
      "15663 3916\n",
      "15664 3915\n",
      "0.868949779387\n"
     ]
    }
   ],
   "source": [
    "vectorizer = CountVectorizer(ngram_range=(1, 4), analyzer='word')\n",
    "predict_prob_features, predict_prob_features_test = vectorizer_feature(vectorizer, 7)"
   ]
  },
  {
   "cell_type": "code",
   "execution_count": 23,
   "metadata": {
    "collapsed": true
   },
   "outputs": [],
   "source": [
    "for a, c in author2class.items():\n",
    "    df['{}_word_count_NB'.format(a)] = predict_prob_features[:, c]\n",
    "    df_test['{}_word_count_NB'.format(a)] = predict_prob_features_test[:, c]/num_split"
   ]
  },
  {
   "cell_type": "code",
   "execution_count": 24,
   "metadata": {},
   "outputs": [
    {
     "name": "stdout",
     "output_type": "stream",
     "text": [
      "15663 3916\n",
      "15663 3916\n",
      "15663 3916\n",
      "15663 3916\n",
      "15664 3915\n",
      "2.50491390234\n"
     ]
    }
   ],
   "source": [
    "vectorizer = CountVectorizer(ngram_range=(2, 4), analyzer='char')\n",
    "predict_prob_features, predict_prob_features_test = vectorizer_feature(vectorizer, 5)"
   ]
  },
  {
   "cell_type": "code",
   "execution_count": 25,
   "metadata": {
    "collapsed": true
   },
   "outputs": [],
   "source": [
    "for a, c in author2class.items():\n",
    "    df['{}_char_count_NB'.format(a)] = predict_prob_features[:, c]\n",
    "    df_test['{}_char_count_NB'.format(a)] = predict_prob_features_test[:, c]/num_split"
   ]
  },
  {
   "cell_type": "code",
   "execution_count": 26,
   "metadata": {
    "collapsed": true
   },
   "outputs": [],
   "source": [
    "# counter = {name : defaultdict(int) for name in set(df.author)}\n",
    "# for (text, author) in zip(df.text, df.author):\n",
    "#     text = text.replace(' ', '')\n",
    "#     for c in text:\n",
    "#         counter[author][c] += 1\n",
    "    \n",
    "# chars = set()\n",
    "# for v in counter.values():\n",
    "#     chars |= v.keys()\n",
    "    \n",
    "# names = [author for author in counter.keys()]\n",
    "# special_latters = set()\n",
    "\n",
    "# for c in chars:    \n",
    "#     special_latters.add(c)\n",
    "# special_latters = special_latters - "
   ]
  },
  {
   "cell_type": "code",
   "execution_count": 27,
   "metadata": {
    "collapsed": true
   },
   "outputs": [],
   "source": [
    "normal_latters = set(string.ascii_uppercase) | set(string.ascii_lowercase) | set(',.:;\"\\'? ')"
   ]
  },
  {
   "cell_type": "code",
   "execution_count": 28,
   "metadata": {
    "collapsed": true
   },
   "outputs": [],
   "source": [
    "df['num_chars'] = np.array([len(t) for t in df.text])\n",
    "df_test['num_chars'] = np.array([len(t) for t in df_test.text])\n",
    "\n",
    "df['num_words'] = np.array([len(t.split()) for t in df.text])\n",
    "df_test['num_words'] = np.array([len(t.split()) for t in df_test.text])\n",
    "\n",
    "df['average_num_chars'] = np.array([np.mean([len(word) for word in t.split()]) for t in df.text])\n",
    "df_test['average_num_chars'] = np.array([np.mean([len(word) for word in t.split()]) for t in df_test.text])\n",
    "\n",
    "special = ',' # ',.:;\"\\'?'\n",
    "for c in special:\n",
    "    df['num_'+c] = np.array([t.count(c) for t in df.text])\n",
    "    df_test['num_'+c] = np.array([t.count(c) for t in df_test.text])\n"
   ]
  },
  {
   "cell_type": "code",
   "execution_count": 29,
   "metadata": {
    "collapsed": true
   },
   "outputs": [],
   "source": [
    "# num_special_chars = []\n",
    "# for t in df.text:\n",
    "#     prod = set(t) - normal_latters\n",
    "#     c = 0\n",
    "#     for p in prod:\n",
    "#         c += t.count(p)\n",
    "    \n",
    "#     num_special_chars.append(c)\n",
    "\n",
    "# df['num_special_chars'] = np.array(num_special_chars)\n",
    "\n",
    "# num_special_chars = []\n",
    "# for t in df_test.text:\n",
    "#     prod = set(t) - normal_latters\n",
    "#     c = 0\n",
    "#     for p in prod:\n",
    "#         c += t.count(p)\n",
    "    \n",
    "#     num_special_chars.append(c)\n",
    "\n",
    "# df_test['num_special_chars'] = np.array(num_special_chars)\n"
   ]
  },
  {
   "cell_type": "code",
   "execution_count": 30,
   "metadata": {
    "collapsed": true
   },
   "outputs": [],
   "source": [
    "df.drop('id', axis=1, inplace=True)\n",
    "df.drop('text', axis=1, inplace=True)\n",
    "df.drop('author', axis=1, inplace=True)"
   ]
  },
  {
   "cell_type": "code",
   "execution_count": 31,
   "metadata": {
    "collapsed": true
   },
   "outputs": [],
   "source": [
    "# kf = model_selection.KFold(n_splits=num_split, shuffle=True, random_state=2017)\n",
    "# xgb_model = xgb.XGBClassifier()"
   ]
  },
  {
   "cell_type": "code",
   "execution_count": 32,
   "metadata": {},
   "outputs": [
    {
     "data": {
      "text/plain": [
       "Index(['EAP_fasttext_logi', 'HPL_fasttext_logi', 'MWS_fasttext_logi',\n",
       "       'EAP_fasttext_cbow_logi', 'HPL_fasttext_cbow_logi',\n",
       "       'MWS_fasttext_cbow_logi', 'EAP_char_tfidf_NB', 'HPL_char_tfidf_NB',\n",
       "       'MWS_char_tfidf_NB', 'EAP_word_tfidf_NB', 'HPL_word_tfidf_NB',\n",
       "       'MWS_word_tfidf_NB', 'EAP_word_count_NB', 'HPL_word_count_NB',\n",
       "       'MWS_word_count_NB', 'EAP_char_count_NB', 'HPL_char_count_NB',\n",
       "       'MWS_char_count_NB', 'num_chars', 'num_words', 'average_num_chars',\n",
       "       'num_,'],\n",
       "      dtype='object')"
      ]
     },
     "execution_count": 32,
     "metadata": {},
     "output_type": "execute_result"
    }
   ],
   "source": [
    "df.keys()"
   ]
  },
  {
   "cell_type": "code",
   "execution_count": 33,
   "metadata": {
    "collapsed": true
   },
   "outputs": [],
   "source": [
    "# df.drop('EAP_fasttext_logi', axis=1, inplace=True)\n",
    "# df.drop('HPL_fasttext_logi', axis=1, inplace=True)\n",
    "# df.drop('MWS_fasttext_low_dim_logi', axis=1, inplace=True)"
   ]
  },
  {
   "cell_type": "code",
   "execution_count": 40,
   "metadata": {
    "scrolled": true
   },
   "outputs": [
    {
     "data": {
      "text/html": [
       "<div>\n",
       "<style>\n",
       "    .dataframe thead tr:only-child th {\n",
       "        text-align: right;\n",
       "    }\n",
       "\n",
       "    .dataframe thead th {\n",
       "        text-align: left;\n",
       "    }\n",
       "\n",
       "    .dataframe tbody tr th {\n",
       "        vertical-align: top;\n",
       "    }\n",
       "</style>\n",
       "<table border=\"1\" class=\"dataframe\">\n",
       "  <thead>\n",
       "    <tr style=\"text-align: right;\">\n",
       "      <th></th>\n",
       "      <th>EAP_fasttext_logi</th>\n",
       "      <th>HPL_fasttext_logi</th>\n",
       "      <th>MWS_fasttext_logi</th>\n",
       "      <th>EAP_fasttext_cbow_logi</th>\n",
       "      <th>HPL_fasttext_cbow_logi</th>\n",
       "      <th>MWS_fasttext_cbow_logi</th>\n",
       "      <th>EAP_char_tfidf_NB</th>\n",
       "      <th>HPL_char_tfidf_NB</th>\n",
       "      <th>MWS_char_tfidf_NB</th>\n",
       "      <th>EAP_word_tfidf_NB</th>\n",
       "      <th>...</th>\n",
       "      <th>EAP_word_count_NB</th>\n",
       "      <th>HPL_word_count_NB</th>\n",
       "      <th>MWS_word_count_NB</th>\n",
       "      <th>EAP_char_count_NB</th>\n",
       "      <th>HPL_char_count_NB</th>\n",
       "      <th>MWS_char_count_NB</th>\n",
       "      <th>num_chars</th>\n",
       "      <th>num_words</th>\n",
       "      <th>average_num_chars</th>\n",
       "      <th>num_,</th>\n",
       "    </tr>\n",
       "  </thead>\n",
       "  <tbody>\n",
       "    <tr>\n",
       "      <th>19574</th>\n",
       "      <td>0.502453</td>\n",
       "      <td>0.407642</td>\n",
       "      <td>0.089905</td>\n",
       "      <td>0.402772</td>\n",
       "      <td>0.478072</td>\n",
       "      <td>0.119155</td>\n",
       "      <td>0.646308</td>\n",
       "      <td>0.178946</td>\n",
       "      <td>0.174746</td>\n",
       "      <td>0.545433</td>\n",
       "      <td>...</td>\n",
       "      <td>0.821004</td>\n",
       "      <td>1.788949e-01</td>\n",
       "      <td>1.014361e-04</td>\n",
       "      <td>4.385717e-04</td>\n",
       "      <td>1.418646e-01</td>\n",
       "      <td>8.576969e-01</td>\n",
       "      <td>108</td>\n",
       "      <td>20</td>\n",
       "      <td>4.450000</td>\n",
       "      <td>2</td>\n",
       "    </tr>\n",
       "    <tr>\n",
       "      <th>19575</th>\n",
       "      <td>0.648131</td>\n",
       "      <td>0.008790</td>\n",
       "      <td>0.343079</td>\n",
       "      <td>0.654535</td>\n",
       "      <td>0.264869</td>\n",
       "      <td>0.080597</td>\n",
       "      <td>0.668146</td>\n",
       "      <td>0.075501</td>\n",
       "      <td>0.256353</td>\n",
       "      <td>0.530387</td>\n",
       "      <td>...</td>\n",
       "      <td>0.960863</td>\n",
       "      <td>3.663572e-04</td>\n",
       "      <td>3.877103e-02</td>\n",
       "      <td>3.393561e-01</td>\n",
       "      <td>2.354951e-04</td>\n",
       "      <td>6.604084e-01</td>\n",
       "      <td>55</td>\n",
       "      <td>10</td>\n",
       "      <td>4.600000</td>\n",
       "      <td>0</td>\n",
       "    </tr>\n",
       "    <tr>\n",
       "      <th>19576</th>\n",
       "      <td>0.974873</td>\n",
       "      <td>0.021578</td>\n",
       "      <td>0.003548</td>\n",
       "      <td>0.663832</td>\n",
       "      <td>0.291408</td>\n",
       "      <td>0.044760</td>\n",
       "      <td>0.871611</td>\n",
       "      <td>0.061914</td>\n",
       "      <td>0.066475</td>\n",
       "      <td>0.854690</td>\n",
       "      <td>...</td>\n",
       "      <td>1.000000</td>\n",
       "      <td>9.020228e-12</td>\n",
       "      <td>1.238931e-09</td>\n",
       "      <td>1.000000e+00</td>\n",
       "      <td>5.040300e-13</td>\n",
       "      <td>5.375959e-13</td>\n",
       "      <td>68</td>\n",
       "      <td>13</td>\n",
       "      <td>4.307692</td>\n",
       "      <td>1</td>\n",
       "    </tr>\n",
       "    <tr>\n",
       "      <th>19577</th>\n",
       "      <td>0.693803</td>\n",
       "      <td>0.113793</td>\n",
       "      <td>0.192404</td>\n",
       "      <td>0.759826</td>\n",
       "      <td>0.224728</td>\n",
       "      <td>0.015446</td>\n",
       "      <td>0.746419</td>\n",
       "      <td>0.167788</td>\n",
       "      <td>0.085793</td>\n",
       "      <td>0.568534</td>\n",
       "      <td>...</td>\n",
       "      <td>0.957735</td>\n",
       "      <td>4.218386e-02</td>\n",
       "      <td>8.136838e-05</td>\n",
       "      <td>9.999985e-01</td>\n",
       "      <td>1.540827e-06</td>\n",
       "      <td>8.148653e-11</td>\n",
       "      <td>74</td>\n",
       "      <td>15</td>\n",
       "      <td>4.000000</td>\n",
       "      <td>1</td>\n",
       "    </tr>\n",
       "    <tr>\n",
       "      <th>19578</th>\n",
       "      <td>0.205407</td>\n",
       "      <td>0.672515</td>\n",
       "      <td>0.122078</td>\n",
       "      <td>0.355702</td>\n",
       "      <td>0.398203</td>\n",
       "      <td>0.246095</td>\n",
       "      <td>0.616580</td>\n",
       "      <td>0.212289</td>\n",
       "      <td>0.171131</td>\n",
       "      <td>0.576162</td>\n",
       "      <td>...</td>\n",
       "      <td>0.959739</td>\n",
       "      <td>4.016009e-02</td>\n",
       "      <td>1.007295e-04</td>\n",
       "      <td>1.042207e-08</td>\n",
       "      <td>9.999672e-01</td>\n",
       "      <td>3.275839e-05</td>\n",
       "      <td>109</td>\n",
       "      <td>22</td>\n",
       "      <td>4.000000</td>\n",
       "      <td>1</td>\n",
       "    </tr>\n",
       "  </tbody>\n",
       "</table>\n",
       "<p>5 rows × 22 columns</p>\n",
       "</div>"
      ],
      "text/plain": [
       "       EAP_fasttext_logi  HPL_fasttext_logi  MWS_fasttext_logi  \\\n",
       "19574           0.502453           0.407642           0.089905   \n",
       "19575           0.648131           0.008790           0.343079   \n",
       "19576           0.974873           0.021578           0.003548   \n",
       "19577           0.693803           0.113793           0.192404   \n",
       "19578           0.205407           0.672515           0.122078   \n",
       "\n",
       "       EAP_fasttext_cbow_logi  HPL_fasttext_cbow_logi  MWS_fasttext_cbow_logi  \\\n",
       "19574                0.402772                0.478072                0.119155   \n",
       "19575                0.654535                0.264869                0.080597   \n",
       "19576                0.663832                0.291408                0.044760   \n",
       "19577                0.759826                0.224728                0.015446   \n",
       "19578                0.355702                0.398203                0.246095   \n",
       "\n",
       "       EAP_char_tfidf_NB  HPL_char_tfidf_NB  MWS_char_tfidf_NB  \\\n",
       "19574           0.646308           0.178946           0.174746   \n",
       "19575           0.668146           0.075501           0.256353   \n",
       "19576           0.871611           0.061914           0.066475   \n",
       "19577           0.746419           0.167788           0.085793   \n",
       "19578           0.616580           0.212289           0.171131   \n",
       "\n",
       "       EAP_word_tfidf_NB  ...    EAP_word_count_NB  HPL_word_count_NB  \\\n",
       "19574           0.545433  ...             0.821004       1.788949e-01   \n",
       "19575           0.530387  ...             0.960863       3.663572e-04   \n",
       "19576           0.854690  ...             1.000000       9.020228e-12   \n",
       "19577           0.568534  ...             0.957735       4.218386e-02   \n",
       "19578           0.576162  ...             0.959739       4.016009e-02   \n",
       "\n",
       "       MWS_word_count_NB  EAP_char_count_NB  HPL_char_count_NB  \\\n",
       "19574       1.014361e-04       4.385717e-04       1.418646e-01   \n",
       "19575       3.877103e-02       3.393561e-01       2.354951e-04   \n",
       "19576       1.238931e-09       1.000000e+00       5.040300e-13   \n",
       "19577       8.136838e-05       9.999985e-01       1.540827e-06   \n",
       "19578       1.007295e-04       1.042207e-08       9.999672e-01   \n",
       "\n",
       "       MWS_char_count_NB  num_chars  num_words  average_num_chars  num_,  \n",
       "19574       8.576969e-01        108         20           4.450000      2  \n",
       "19575       6.604084e-01         55         10           4.600000      0  \n",
       "19576       5.375959e-13         68         13           4.307692      1  \n",
       "19577       8.148653e-11         74         15           4.000000      1  \n",
       "19578       3.275839e-05        109         22           4.000000      1  \n",
       "\n",
       "[5 rows x 22 columns]"
      ]
     },
     "execution_count": 40,
     "metadata": {},
     "output_type": "execute_result"
    }
   ],
   "source": [
    "df.tail()"
   ]
  },
  {
   "cell_type": "code",
   "execution_count": 35,
   "metadata": {
    "collapsed": true
   },
   "outputs": [],
   "source": [
    "df_test.drop('id', axis=1, inplace=True)\n",
    "df_test.drop('text', axis=1, inplace=True)"
   ]
  },
  {
   "cell_type": "code",
   "execution_count": 36,
   "metadata": {
    "collapsed": true
   },
   "outputs": [],
   "source": [
    "scale_targets = ['num_words', 'num_chars', 'average_num_chars'] + ['num_{}'.format(c) for c in special]"
   ]
  },
  {
   "cell_type": "code",
   "execution_count": 37,
   "metadata": {},
   "outputs": [
    {
     "data": {
      "text/plain": [
       "['num_words', 'num_chars', 'average_num_chars', 'num_,']"
      ]
     },
     "execution_count": 37,
     "metadata": {},
     "output_type": "execute_result"
    }
   ],
   "source": [
    "scale_targets"
   ]
  },
  {
   "cell_type": "code",
   "execution_count": 38,
   "metadata": {},
   "outputs": [
    {
     "name": "stdout",
     "output_type": "stream",
     "text": [
      "15663 3916\n",
      "[0]\ttrain-mlogloss:1.01364\ttest-mlogloss:1.01381\n",
      "Multiple eval metrics have been passed: 'test-mlogloss' will be used for early stopping.\n",
      "\n",
      "Will train until test-mlogloss hasn't improved in 170 rounds.\n"
     ]
    },
    {
     "name": "stderr",
     "output_type": "stream",
     "text": [
      "/Users/nzw/.pyenv/versions/miniconda3-latest/lib/python3.6/site-packages/sklearn/utils/validation.py:444: DataConversionWarning: Data with input dtype int64 was converted to float64 by MinMaxScaler.\n",
      "  warnings.warn(msg, DataConversionWarning)\n"
     ]
    },
    {
     "name": "stdout",
     "output_type": "stream",
     "text": [
      "[50]\ttrain-mlogloss:0.347325\ttest-mlogloss:0.354866\n",
      "[100]\ttrain-mlogloss:0.312585\ttest-mlogloss:0.335807\n",
      "[150]\ttrain-mlogloss:0.2923\ttest-mlogloss:0.328767\n",
      "[200]\ttrain-mlogloss:0.277036\ttest-mlogloss:0.325645\n",
      "[250]\ttrain-mlogloss:0.264385\ttest-mlogloss:0.325268\n",
      "[300]\ttrain-mlogloss:0.252799\ttest-mlogloss:0.32483\n",
      "[350]\ttrain-mlogloss:0.24263\ttest-mlogloss:0.32472\n",
      "[400]\ttrain-mlogloss:0.232881\ttest-mlogloss:0.325023\n",
      "[450]\ttrain-mlogloss:0.223726\ttest-mlogloss:0.326076\n",
      "Stopping. Best iteration:\n",
      "[314]\ttrain-mlogloss:0.249746\ttest-mlogloss:0.324397\n",
      "\n",
      "15663 3916\n",
      "[0]\ttrain-mlogloss:1.01357\ttest-mlogloss:1.01407\n",
      "Multiple eval metrics have been passed: 'test-mlogloss' will be used for early stopping.\n",
      "\n",
      "Will train until test-mlogloss hasn't improved in 170 rounds.\n",
      "[50]\ttrain-mlogloss:0.345182\ttest-mlogloss:0.362931\n",
      "[100]\ttrain-mlogloss:0.310107\ttest-mlogloss:0.342541\n",
      "[150]\ttrain-mlogloss:0.290357\ttest-mlogloss:0.336109\n",
      "[200]\ttrain-mlogloss:0.275043\ttest-mlogloss:0.333173\n",
      "[250]\ttrain-mlogloss:0.262771\ttest-mlogloss:0.33144\n",
      "[300]\ttrain-mlogloss:0.252014\ttest-mlogloss:0.330841\n",
      "[350]\ttrain-mlogloss:0.241499\ttest-mlogloss:0.330915\n",
      "[400]\ttrain-mlogloss:0.23195\ttest-mlogloss:0.330977\n",
      "[450]\ttrain-mlogloss:0.223206\ttest-mlogloss:0.331697\n",
      "Stopping. Best iteration:\n",
      "[321]\ttrain-mlogloss:0.247627\ttest-mlogloss:0.330615\n",
      "\n",
      "15663 3916\n",
      "[0]\ttrain-mlogloss:1.01315\ttest-mlogloss:1.0141\n",
      "Multiple eval metrics have been passed: 'test-mlogloss' will be used for early stopping.\n",
      "\n",
      "Will train until test-mlogloss hasn't improved in 170 rounds.\n",
      "[50]\ttrain-mlogloss:0.344467\ttest-mlogloss:0.368991\n",
      "[100]\ttrain-mlogloss:0.308849\ttest-mlogloss:0.349187\n",
      "[150]\ttrain-mlogloss:0.28926\ttest-mlogloss:0.342662\n",
      "[200]\ttrain-mlogloss:0.27371\ttest-mlogloss:0.339656\n",
      "[250]\ttrain-mlogloss:0.260613\ttest-mlogloss:0.339015\n",
      "[300]\ttrain-mlogloss:0.249685\ttest-mlogloss:0.338562\n",
      "[350]\ttrain-mlogloss:0.239498\ttest-mlogloss:0.339036\n",
      "[400]\ttrain-mlogloss:0.230129\ttest-mlogloss:0.339973\n",
      "[450]\ttrain-mlogloss:0.221166\ttest-mlogloss:0.34085\n",
      "Stopping. Best iteration:\n",
      "[302]\ttrain-mlogloss:0.249309\ttest-mlogloss:0.338403\n",
      "\n",
      "15663 3916\n",
      "[0]\ttrain-mlogloss:1.0124\ttest-mlogloss:1.0135\n",
      "Multiple eval metrics have been passed: 'test-mlogloss' will be used for early stopping.\n",
      "\n",
      "Will train until test-mlogloss hasn't improved in 170 rounds.\n",
      "[50]\ttrain-mlogloss:0.346764\ttest-mlogloss:0.360306\n",
      "[100]\ttrain-mlogloss:0.312926\ttest-mlogloss:0.336824\n",
      "[150]\ttrain-mlogloss:0.293539\ttest-mlogloss:0.327624\n",
      "[200]\ttrain-mlogloss:0.278297\ttest-mlogloss:0.322531\n",
      "[250]\ttrain-mlogloss:0.265899\ttest-mlogloss:0.321009\n",
      "[300]\ttrain-mlogloss:0.253978\ttest-mlogloss:0.320082\n",
      "[350]\ttrain-mlogloss:0.24334\ttest-mlogloss:0.319791\n",
      "[400]\ttrain-mlogloss:0.2336\ttest-mlogloss:0.319455\n",
      "[450]\ttrain-mlogloss:0.224328\ttest-mlogloss:0.319514\n",
      "[500]\ttrain-mlogloss:0.215689\ttest-mlogloss:0.319234\n",
      "[550]\ttrain-mlogloss:0.207507\ttest-mlogloss:0.319759\n",
      "[600]\ttrain-mlogloss:0.199496\ttest-mlogloss:0.320659\n",
      "Stopping. Best iteration:\n",
      "[474]\ttrain-mlogloss:0.220289\ttest-mlogloss:0.319166\n",
      "\n",
      "15664 3915\n",
      "[0]\ttrain-mlogloss:1.00767\ttest-mlogloss:1.00866\n",
      "Multiple eval metrics have been passed: 'test-mlogloss' will be used for early stopping.\n",
      "\n",
      "Will train until test-mlogloss hasn't improved in 170 rounds.\n",
      "[50]\ttrain-mlogloss:0.347412\ttest-mlogloss:0.364968\n",
      "[100]\ttrain-mlogloss:0.311032\ttest-mlogloss:0.342091\n",
      "[150]\ttrain-mlogloss:0.291178\ttest-mlogloss:0.335565\n",
      "[200]\ttrain-mlogloss:0.276053\ttest-mlogloss:0.3328\n",
      "[250]\ttrain-mlogloss:0.263022\ttest-mlogloss:0.3312\n",
      "[300]\ttrain-mlogloss:0.251308\ttest-mlogloss:0.329986\n",
      "[350]\ttrain-mlogloss:0.240716\ttest-mlogloss:0.329063\n",
      "[400]\ttrain-mlogloss:0.231057\ttest-mlogloss:0.32888\n",
      "[450]\ttrain-mlogloss:0.221895\ttest-mlogloss:0.329568\n",
      "[500]\ttrain-mlogloss:0.213303\ttest-mlogloss:0.330049\n",
      "[550]\ttrain-mlogloss:0.205365\ttest-mlogloss:0.330908\n",
      "Stopping. Best iteration:\n",
      "[400]\ttrain-mlogloss:0.231057\ttest-mlogloss:0.32888\n",
      "\n"
     ]
    }
   ],
   "source": [
    "param = {}\n",
    "param['objective'] = 'multi:softprob'\n",
    "param['eta'] = 0.1 #01\n",
    "param['max_depth'] = 3\n",
    "param['silent'] = 1\n",
    "param['num_class'] = 3\n",
    "param['eval_metric'] = \"mlogloss\"\n",
    "param['min_child_weight'] = 1\n",
    "param['subsample'] = 0.8\n",
    "param['colsample_bytree'] = 0.3\n",
    "param['seed'] = 7\n",
    "num_rounds = 6000\n",
    "\n",
    "cv_scores = []\n",
    "kf = KFold(n_splits=5, shuffle=True, random_state=2017)\n",
    "results = np.zeros((len(df_test), 3))\n",
    "for train_ids, val_ids in kf.split(df):\n",
    "    x_train, x_val = df.loc[train_ids], df.loc[val_ids]\n",
    "    y_train, y_val = y[train_ids], y[val_ids]\n",
    "    print(len(x_train), len(x_val))\n",
    "    \n",
    "\n",
    "    for k in scale_targets:\n",
    "        scaler = MinMaxScaler()\n",
    "        x_train[k] = scaler.fit_transform(x_train[k].values.reshape(len(x_train[k]), 1)).reshape(-1)\n",
    "        x_val[k] = scaler.transform(x_val[k].values.reshape(len(x_val[k]), -1)).reshape(-1)\n",
    "        df_test[k] = scaler.transform(df_test[k].values.reshape(len(df_test[k]), -1)).reshape(-1)\n",
    "\n",
    "    \n",
    "    plst = list(param.items())\n",
    "    xgtrain = xgb.DMatrix(x_train, label=y_train)\n",
    "    xgtest = xgb.DMatrix(x_val, label=y_val)\n",
    "    \n",
    "    watchlist = [ (xgtrain,'train'), (xgtest, 'test') ]\n",
    "    model = xgb.train(plst, xgtrain, num_rounds, watchlist, early_stopping_rounds=170, verbose_eval=50)\n",
    "    \n",
    "\n",
    "    xgtest2 = xgb.DMatrix(df_test)\n",
    "    results += model.predict(xgtest2, ntree_limit=model.best_ntree_limit)\n"
   ]
  },
  {
   "cell_type": "code",
   "execution_count": 39,
   "metadata": {},
   "outputs": [
    {
     "data": {
      "image/png": "[encoded data removed]",
      "text/plain": [
       "<matplotlib.figure.Figure at 0x1a21b665c0>"
      ]
     },
     "metadata": {},
     "output_type": "display_data"
    }
   ],
   "source": [
    "fig, ax = plt.subplots(figsize=(12, 12))\n",
    "xgb.plot_importance(model, max_num_features=50, height=0.8, ax=ax)\n",
    "plt.show()"
   ]
  },
  {
   "cell_type": "code",
   "execution_count": 43,
   "metadata": {
    "collapsed": true
   },
   "outputs": [],
   "source": [
    "submission_df = pd.read_csv('./data/sample_submission.csv')\n",
    "for a, i in author2class.items():\n",
    "    submission_df[a] = results[:, i]/5\n",
    "\n",
    "with open('./results/first_xgboost_cbow.csv', 'w') as f:\n",
    "    f.write('\"id\",\"EAP\",\"HPL\",\"MWS\"\\n')\n",
    "    for (index, row) in submission_df.iterrows():\n",
    "        f.write(','.join(['\\\"' + row['id'] + '\\\"'] +  list(map(str, [row['EAP'], row['HPL'], row['MWS']]))) + '\\n')"
   ]
  },
  {
   "cell_type": "code",
   "execution_count": null,
   "metadata": {
    "collapsed": true
   },
   "outputs": [],
   "source": []
  }
 ],
 "metadata": {
  "kernelspec": {
   "display_name": "Python 3",
   "language": "python",
   "name": "python3"
  },
  "language_info": {
   "codemirror_mode": {
    "name": "ipython",
    "version": 3
   },
   "file_extension": ".py",
   "mimetype": "text/x-python",
   "name": "python",
   "nbconvert_exporter": "python",
   "pygments_lexer": "ipython3",
   "version": "3.6.1"
  }
 },
 "nbformat": 4,
 "nbformat_minor": 2
}
