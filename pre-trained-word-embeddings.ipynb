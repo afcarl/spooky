{
 "cells": [
  {
   "cell_type": "code",
   "execution_count": 1,
   "metadata": {
    "collapsed": true
   },
   "outputs": [],
   "source": [
    "# download embeddings from official pages"
   ]
  },
  {
   "cell_type": "code",
   "execution_count": 1,
   "metadata": {},
   "outputs": [
    {
     "name": "stderr",
     "output_type": "stream",
     "text": [
      "Using TensorFlow backend.\n"
     ]
    }
   ],
   "source": [
    "import pandas as pd\n",
    "from utils import preprocess\n",
    "from gensim.models import word2vec"
   ]
  },
  {
   "cell_type": "code",
   "execution_count": 3,
   "metadata": {
    "collapsed": true
   },
   "outputs": [],
   "source": [
    "df = pd.read_csv('./data/train.csv')"
   ]
  },
  {
   "cell_type": "code",
   "execution_count": 4,
   "metadata": {
    "collapsed": true
   },
   "outputs": [],
   "source": [
    "glove_path =  '/Users/nzw/Downloads/glove.840B.300d.txt.word2vec_formated'"
   ]
  },
  {
   "cell_type": "code",
   "execution_count": 7,
   "metadata": {
    "collapsed": true
   },
   "outputs": [],
   "source": [
    "vocab = set()\n",
    "for t in df.text:\n",
    "    vocab |= set(preprocess(t).split())"
   ]
  },
  {
   "cell_type": "code",
   "execution_count": 17,
   "metadata": {
    "collapsed": true
   },
   "outputs": [],
   "source": [
    "vectors = {}\n",
    "with open('/Users/nzw/Downloads/glove.840B.300d.txt') as f:\n",
    "    for l in f:\n",
    "        word, vec = l.split(' ', 1)\n",
    "        if word in vocab:\n",
    "            vectors[word] = vec\n"
   ]
  },
  {
   "cell_type": "code",
   "execution_count": 22,
   "metadata": {
    "collapsed": true
   },
   "outputs": [],
   "source": [
    "num_vocab = len(vectors)"
   ]
  },
  {
   "cell_type": "code",
   "execution_count": 28,
   "metadata": {
    "collapsed": true
   },
   "outputs": [],
   "source": [
    "with open('/Users/nzw/Dropbox/spooky/data/glove.300.txt', 'w') as f:\n",
    "    f.write('{} {}\\n'.format(num_vocab, 300))\n",
    "    for word, str_vector in vectors.items():\n",
    "        f.write('{} {}'.format(word, str_vector))"
   ]
  },
  {
   "cell_type": "code",
   "execution_count": null,
   "metadata": {
    "collapsed": true
   },
   "outputs": [],
   "source": [
    "w2v = word2vec.KeyedVectors.load_word2vec_format('/Users/nzw/Downloads/GoogleNews-vectors-negative300.bin', binary=True)"
   ]
  },
  {
   "cell_type": "code",
   "execution_count": null,
   "metadata": {
    "collapsed": true
   },
   "outputs": [],
   "source": [
    "vocab = set()\n",
    "for t in df.text:\n",
    "    vocab |= set(preprocess(t).lower().split())\n",
    "\n",
    "w2v_vocab = set(w2v.vocab.keys())\n",
    "w2v_vocab = w2v_vocab & vocab"
   ]
  },
  {
   "cell_type": "code",
   "execution_count": 76,
   "metadata": {
    "collapsed": true
   },
   "outputs": [],
   "source": [
    "dim = w2v.vector_size\n",
    "num_vocab = len(w2v_vocab)\n",
    "with open('/Users/nzw/Dropbox/spooky/data/w2vgoogle.300.txt', 'w') as f:\n",
    "    f.write('{} {}\\n'.format(num_vocab, dim))\n",
    "    for w in w2v_vocab:\n",
    "        f.write('{} {}\\n'.format(w, ' '.join(list(map(str, w2v[w])))))"
   ]
  },
  {
   "cell_type": "markdown",
   "metadata": {
    "collapsed": true
   },
   "source": [
    "# FastText pretrained model\n",
    "https://github.com/facebookresearch/fastText/blob/master/pretrained-vectors.md"
   ]
  },
  {
   "cell_type": "code",
   "execution_count": 30,
   "metadata": {},
   "outputs": [],
   "source": [
    "vocab = set()\n",
    "for t in df.text:\n",
    "    vocab |= set(preprocess(t).lower().replace('\\'', ' \\' ').replace(\";\", \" ; \").replace(',', ' , ').split())\n"
   ]
  },
  {
   "cell_type": "code",
   "execution_count": 31,
   "metadata": {},
   "outputs": [],
   "source": [
    "dim = 300\n",
    "vec = []\n",
    "with open('/Users/nzw/Downloads/wiki.en.vec') as f:\n",
    "    for l in f:\n",
    "        w = l.split()[0]\n",
    "        if w in vocab:\n",
    "            vec.append(l)"
   ]
  },
  {
   "cell_type": "code",
   "execution_count": 34,
   "metadata": {
    "collapsed": true
   },
   "outputs": [],
   "source": [
    "num_vocab = len(vec)\n",
    "with open('/Users/nzw/Dropbox/spooky/data/fastText.300.txt', 'w') as f:\n",
    "    f.write('{} {}\\n'.format(num_vocab, dim))\n",
    "    for v in vec:\n",
    "        f.write('{}\\n'.format(v))"
   ]
  },
  {
   "cell_type": "code",
   "execution_count": null,
   "metadata": {
    "collapsed": true
   },
   "outputs": [],
   "source": []
  }
 ],
 "metadata": {
  "kernelspec": {
   "display_name": "Python 3",
   "language": "python",
   "name": "python3"
  },
  "language_info": {
   "codemirror_mode": {
    "name": "ipython",
    "version": 3
   },
   "file_extension": ".py",
   "mimetype": "text/x-python",
   "name": "python",
   "nbconvert_exporter": "python",
   "pygments_lexer": "ipython3",
   "version": "3.6.3"
  }
 },
 "nbformat": 4,
 "nbformat_minor": 2
}
